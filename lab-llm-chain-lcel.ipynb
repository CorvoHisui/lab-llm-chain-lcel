{
 "cells": [
  {
   "cell_type": "markdown",
   "id": "9316da0d",
   "metadata": {},
   "source": [
    "# Lab | Simple LLM App with LCEL\n",
    "\n",
    "In this quickstart we'll show you how to build a simple LLM application with LangChain. This application will translate text from English into another language. This is a relatively simple LLM application - it's just a single LLM call plus some prompting. Still, this is a great way to get started with LangChain - a lot of features can be built with just some prompting and an LLM call!\n",
    "\n",
    "### LangSmith\n",
    "\n",
    "Many of the applications you build with LangChain will contain multiple steps with multiple invocations of LLM calls.\n",
    "As these applications get more and more complex, it becomes crucial to be able to inspect what exactly is going on inside your chain or agent.\n",
    "The best way to do this is with [LangSmith](https://smith.langchain.com).\n",
    "\n",
    "After you sign up at the link above, make sure to set your environment variables to start logging traces:\n",
    "\n",
    "```shell\n",
    "export LANGCHAIN_TRACING_V2=\"true\"\n",
    "export LANGCHAIN_API_KEY=\"...\"\n",
    "```\n",
    "\n",
    "Or, if in a notebook, you can set them with:\n",
    "\n",
    "```python\n",
    "import getpass\n",
    "import os\n",
    "\n",
    "os.environ[\"LANGCHAIN_TRACING_V2\"] = \"true\"\n",
    "os.environ[\"LANGCHAIN_API_KEY\"] = getpass.getpass()\n",
    "```"
   ]
  },
  {
   "cell_type": "code",
   "execution_count": 14,
   "id": "e4b41234",
   "metadata": {},
   "outputs": [
    {
     "name": "stderr",
     "output_type": "stream",
     "text": [
      "C:\\Users\\rfria\\AppData\\Local\\Temp\\ipykernel_21224\\2481728250.py:5: LangChainDeprecationWarning: The class `ChatOllama` was deprecated in LangChain 0.3.1 and will be removed in 1.0.0. An updated version of the class exists in the :class:`~langchain-ollama package and should be used instead. To use it run `pip install -U :class:`~langchain-ollama` and import as `from :class:`~langchain_ollama import ChatOllama``.\n",
      "  model = ChatOllama(model=\"llama2\")  # or another model like \"mistral\" or \"gemma\"\n"
     ]
    }
   ],
   "source": [
    "from langchain_core.messages import HumanMessage, SystemMessage\n",
    "from langchain_community.chat_models import ChatOllama\n",
    "\n",
    "# Use Ollama with a local model (requires Ollama to be installed)\n",
    "model = ChatOllama(model=\"llama2\")  # or another model like \"mistral\" or \"gemma\""
   ]
  },
  {
   "cell_type": "markdown",
   "id": "ca5642ff",
   "metadata": {},
   "source": [
    "Let's first use the model directly. `ChatModel`s are instances of LangChain \"Runnables\", which means they expose a standard interface for interacting with them. To just simply call the model, we can pass in a list of messages to the `.invoke` method."
   ]
  },
  {
   "cell_type": "code",
   "execution_count": 17,
   "id": "1b2481f0",
   "metadata": {},
   "outputs": [
    {
     "data": {
      "text/plain": [
       "AIMessage(content='\\nCiao! Come stai oggi? (CHOW koh-LAY COO-ahyay OH-dee)\\n\\nNote:\\n\\n* \"Ciao\" is a common greeting in Italian, equivalent to \"hello\" in English.\\n* \"Come stai?\" is a question asking how someone is doing, and can be translated as \"How are you?\" or \"How are things going?\"\\n* \"Oggi\" means \"today\".', additional_kwargs={}, response_metadata={'model': 'llama2', 'created_at': '2025-03-31T15:02:04.6915923Z', 'message': {'role': 'assistant', 'content': ''}, 'done_reason': 'stop', 'done': True, 'total_duration': 35813161200, 'load_duration': 32167058100, 'prompt_eval_count': 35, 'prompt_eval_duration': 641163900, 'eval_count': 100, 'eval_duration': 2996780300}, id='run-816e8109-eb23-44f2-99dc-6218482a1be5-0')"
      ]
     },
     "execution_count": 17,
     "metadata": {},
     "output_type": "execute_result"
    }
   ],
   "source": [
    "messages = [\n",
    "    SystemMessage(content=\"Translate the following from English into Italian\"), \n",
    "    HumanMessage(content=\"Hello, how are you today?\"),\n",
    "]\n",
    "\n",
    "model.invoke(messages)"
   ]
  },
  {
   "cell_type": "code",
   "execution_count": 18,
   "id": "060134f0",
   "metadata": {},
   "outputs": [
    {
     "data": {
      "text/plain": [
       "AIMessage(content='\\nCiao! Come stai oggi? (CHOW koh, KOH-may STAH-ee)\\n\\nLiteral translation:\\n\\nHello! How are you today?\\n\\nNote: In Italian, \"ciao\" is a common greeting that can be used at any time of day, while \"come stai?\" is a question asking about someone\\'s well-being.', additional_kwargs={}, response_metadata={'model': 'llama2', 'created_at': '2025-03-31T15:02:19.1344945Z', 'message': {'role': 'assistant', 'content': ''}, 'done_reason': 'stop', 'done': True, 'total_duration': 2909668400, 'load_duration': 12790900, 'prompt_eval_count': 35, 'prompt_eval_duration': 11641800, 'eval_count': 87, 'eval_duration': 2884014400}, id='run-fe22ea9d-7178-4286-99e6-6d7b4c99dc73-0')"
      ]
     },
     "execution_count": 18,
     "metadata": {},
     "output_type": "execute_result"
    }
   ],
   "source": [
    "messages = [\n",
    "    SystemMessage(content=\"Translate the following from English into Italian\"), \n",
    "    HumanMessage(content=\"Hello, how are you today?\"),\n",
    "]\n",
    "\n",
    "model.invoke(messages)"
   ]
  },
  {
   "cell_type": "code",
   "execution_count": 19,
   "id": "905b3c8e",
   "metadata": {},
   "outputs": [
    {
     "data": {
      "text/plain": [
       "AIMessage(content='\\nCiao! Come stai oggi? (CHOW-oh! KOH-may STY-ee OH-dee)\\n\\nExplanation:\\n\\n* \"Ciao\" is a common Italian greeting, equivalent to \"hello\" in English.\\n* \"Come stai?\" is a question asking how someone is doing, which can be translated as \"How are you today?\" in English.', additional_kwargs={}, response_metadata={'model': 'llama2', 'created_at': '2025-03-31T15:02:27.8000871Z', 'message': {'role': 'assistant', 'content': ''}, 'done_reason': 'stop', 'done': True, 'total_duration': 3164524200, 'load_duration': 34928300, 'prompt_eval_count': 35, 'prompt_eval_duration': 19144000, 'eval_count': 89, 'eval_duration': 3107797400}, id='run-89a0b51e-9fc0-4585-8982-49f0ac19733c-0')"
      ]
     },
     "execution_count": 19,
     "metadata": {},
     "output_type": "execute_result"
    }
   ],
   "source": [
    "messages = [\n",
    "    SystemMessage(content=\"Translate the following from English into Italian\"), \n",
    "    HumanMessage(content=\"Hello, how are you today?\"),\n",
    "]\n",
    "\n",
    "model.invoke(messages)"
   ]
  },
  {
   "cell_type": "code",
   "execution_count": 20,
   "id": "bd22b73d",
   "metadata": {},
   "outputs": [
    {
     "data": {
      "text/plain": [
       "AIMessage(content='\\nCiao! Come stai oggi?', additional_kwargs={}, response_metadata={'model': 'llama2', 'created_at': '2025-03-31T15:02:43.9134478Z', 'message': {'role': 'assistant', 'content': ''}, 'done_reason': 'stop', 'done': True, 'total_duration': 583274700, 'load_duration': 11068200, 'prompt_eval_count': 35, 'prompt_eval_duration': 11834700, 'eval_count': 11, 'eval_duration': 559309100}, id='run-991765e3-f53a-492e-80ec-d0f33137909a-0')"
      ]
     },
     "execution_count": 20,
     "metadata": {},
     "output_type": "execute_result"
    }
   ],
   "source": [
    "messages = [\n",
    "    SystemMessage(content=\"Translate the following from English into Italian\"), \n",
    "    HumanMessage(content=\"Hello, how are you today?\"),\n",
    "]\n",
    "\n",
    "model.invoke(messages)"
   ]
  },
  {
   "cell_type": "markdown",
   "id": "f83373db",
   "metadata": {},
   "source": [
    "If we've enable LangSmith, we can see that this run is logged to LangSmith, and can see the [LangSmith trace](https://smith.langchain.com/public/88baa0b2-7c1a-4d09-ba30-a47985dde2ea/r)"
   ]
  },
  {
   "cell_type": "markdown",
   "id": "32bd03ed",
   "metadata": {},
   "source": [
    "## OutputParsers\n",
    "\n",
    "Notice that the response from the model is an `AIMessage`. This contains a string response along with other metadata about the response. Oftentimes we may just want to work with the string response. We can parse out just this response by using a simple output parser.\n",
    "\n",
    "We first import the simple output parser."
   ]
  },
  {
   "cell_type": "code",
   "execution_count": 21,
   "id": "d7ae9c58",
   "metadata": {},
   "outputs": [],
   "source": [
    "from langchain_core.output_parsers import StrOutputParser\n",
    "\n",
    "parser = StrOutputParser()"
   ]
  },
  {
   "cell_type": "markdown",
   "id": "eaebe33a",
   "metadata": {},
   "source": [
    "One way to use it is to use it by itself. For example, we could save the result of the language model call and then pass it to the parser."
   ]
  },
  {
   "cell_type": "code",
   "execution_count": 22,
   "id": "6bacb837",
   "metadata": {},
   "outputs": [],
   "source": [
    "result = model.invoke(messages)"
   ]
  },
  {
   "cell_type": "code",
   "execution_count": 23,
   "id": "efb8da87",
   "metadata": {},
   "outputs": [
    {
     "data": {
      "text/plain": [
       "'\\nCiao! Come stai oggi?'"
      ]
     },
     "execution_count": 23,
     "metadata": {},
     "output_type": "execute_result"
    }
   ],
   "source": [
    "parser.invoke(result)"
   ]
  },
  {
   "cell_type": "markdown",
   "id": "d508b79d",
   "metadata": {},
   "source": [
    "More commonly, we can \"chain\" the model with this output parser. This means this output parser will get called everytime in this chain. This chain takes on the input type of the language model (string or list of message) and returns the output type of the output parser (string).\n",
    "\n",
    "We can easily create the chain using the `|` operator. The `|` operator is used in LangChain to combine two elements together."
   ]
  },
  {
   "cell_type": "code",
   "execution_count": 34,
   "id": "9449cfa6",
   "metadata": {},
   "outputs": [],
   "source": [
    "chain = None"
   ]
  },
  {
   "cell_type": "code",
   "execution_count": 30,
   "id": "3e82f933",
   "metadata": {},
   "outputs": [
    {
     "ename": "AttributeError",
     "evalue": "'AIMessage' object has no attribute 'invoke'",
     "output_type": "error",
     "traceback": [
      "\u001b[1;31m---------------------------------------------------------------------------\u001b[0m",
      "\u001b[1;31mAttributeError\u001b[0m                            Traceback (most recent call last)",
      "Cell \u001b[1;32mIn[30], line 1\u001b[0m\n\u001b[1;32m----> 1\u001b[0m \u001b[43mchain\u001b[49m\u001b[38;5;241;43m.\u001b[39;49m\u001b[43minvoke\u001b[49m(messages)\n",
      "File \u001b[1;32mc:\\Users\\rfria\\scoop\\apps\\python\\current\\Lib\\site-packages\\pydantic\\main.py:891\u001b[0m, in \u001b[0;36mBaseModel.__getattr__\u001b[1;34m(self, item)\u001b[0m\n\u001b[0;32m    888\u001b[0m     \u001b[38;5;28;01mreturn\u001b[39;00m \u001b[38;5;28msuper\u001b[39m()\u001b[38;5;241m.\u001b[39m\u001b[38;5;21m__getattribute__\u001b[39m(item)  \u001b[38;5;66;03m# Raises AttributeError if appropriate\u001b[39;00m\n\u001b[0;32m    889\u001b[0m \u001b[38;5;28;01melse\u001b[39;00m:\n\u001b[0;32m    890\u001b[0m     \u001b[38;5;66;03m# this is the current error\u001b[39;00m\n\u001b[1;32m--> 891\u001b[0m     \u001b[38;5;28;01mraise\u001b[39;00m \u001b[38;5;167;01mAttributeError\u001b[39;00m(\u001b[38;5;124mf\u001b[39m\u001b[38;5;124m'\u001b[39m\u001b[38;5;132;01m{\u001b[39;00m\u001b[38;5;28mtype\u001b[39m(\u001b[38;5;28mself\u001b[39m)\u001b[38;5;241m.\u001b[39m\u001b[38;5;18m__name__\u001b[39m\u001b[38;5;132;01m!r}\u001b[39;00m\u001b[38;5;124m object has no attribute \u001b[39m\u001b[38;5;132;01m{\u001b[39;00mitem\u001b[38;5;132;01m!r}\u001b[39;00m\u001b[38;5;124m'\u001b[39m)\n",
      "\u001b[1;31mAttributeError\u001b[0m: 'AIMessage' object has no attribute 'invoke'"
     ]
    }
   ],
   "source": [
    "chain.invoke(messages)"
   ]
  },
  {
   "cell_type": "markdown",
   "id": "dd009096",
   "metadata": {},
   "source": [
    "If we now look at LangSmith, we can see that the chain has two steps: first the language model is called, then the result of that is passed to the output parser. We can see the [LangSmith trace]( https://smith.langchain.com/public/f1bdf656-2739-42f7-ac7f-0f1dd712322f/r)"
   ]
  },
  {
   "cell_type": "markdown",
   "id": "1ab8da31",
   "metadata": {},
   "source": [
    "## Prompt Templates\n",
    "\n",
    "Right now we are passing a list of messages directly into the language model. Where does this list of messages come from? Usually, it is constructed from a combination of user input and application logic. This application logic usually takes the raw user input and transforms it into a list of messages ready to pass to the language model. Common transformations include adding a system message or formatting a template with the user input.\n",
    "\n",
    "PromptTemplates are a concept in LangChain designed to assist with this transformation. They take in raw user input and return data (a prompt) that is ready to pass into a language model. \n",
    "\n",
    "Let's create a PromptTemplate here. It will take in two user variables:\n",
    "\n",
    "- `language`: The language to translate text into\n",
    "- `text`: The text to translate"
   ]
  },
  {
   "cell_type": "code",
   "execution_count": 35,
   "id": "3e73cc20",
   "metadata": {},
   "outputs": [],
   "source": [
    "from langchain_core.prompts import ChatPromptTemplate"
   ]
  },
  {
   "cell_type": "markdown",
   "id": "7e876c2a",
   "metadata": {},
   "source": [
    "First, let's create a string that we will format to be the system message:"
   ]
  },
  {
   "cell_type": "code",
   "execution_count": 36,
   "id": "fd75ecde",
   "metadata": {},
   "outputs": [],
   "source": [
    "system_template = \"Translate the following into {language}:\""
   ]
  },
  {
   "cell_type": "markdown",
   "id": "fedf6f13",
   "metadata": {},
   "source": [
    "Next, we can create the PromptTemplate. This will be a combination of the `system_template` as well as a simpler template for where the put the text"
   ]
  },
  {
   "cell_type": "code",
   "execution_count": 37,
   "id": "88e566f3",
   "metadata": {},
   "outputs": [],
   "source": [
    "prompt_template = ChatPromptTemplate.from_messages(\n",
    "    [(\"system\", system_template), (\"user\", \"{text}\")]\n",
    ")"
   ]
  },
  {
   "cell_type": "markdown",
   "id": "d9711ba6",
   "metadata": {},
   "source": [
    "The input to this prompt template is a dictionary. We can play around with this prompt template by itself to see what it does by itself"
   ]
  },
  {
   "cell_type": "code",
   "execution_count": 39,
   "id": "f781b3cb",
   "metadata": {},
   "outputs": [
    {
     "data": {
      "text/plain": [
       "ChatPromptValue(messages=[SystemMessage(content='Translate the following into italian:', additional_kwargs={}, response_metadata={}), HumanMessage(content='how are you doing today?', additional_kwargs={}, response_metadata={})])"
      ]
     },
     "execution_count": 39,
     "metadata": {},
     "output_type": "execute_result"
    }
   ],
   "source": [
    "result = prompt_template.invoke({\"language\": \"italian\", \"text\": \"how are you doing today?\"})\n",
    "\n",
    "result"
   ]
  },
  {
   "cell_type": "markdown",
   "id": "1a49ba9e",
   "metadata": {},
   "source": [
    "We can see that it returns a `ChatPromptValue` that consists of two messages. If we want to access the messages directly we do:"
   ]
  },
  {
   "cell_type": "code",
   "execution_count": 40,
   "id": "2159b619",
   "metadata": {},
   "outputs": [
    {
     "data": {
      "text/plain": [
       "[SystemMessage(content='Translate the following into italian:', additional_kwargs={}, response_metadata={}),\n",
       " HumanMessage(content='how are you doing today?', additional_kwargs={}, response_metadata={})]"
      ]
     },
     "execution_count": 40,
     "metadata": {},
     "output_type": "execute_result"
    }
   ],
   "source": [
    "result.to_messages()"
   ]
  },
  {
   "cell_type": "markdown",
   "id": "5a4267a8",
   "metadata": {},
   "source": [
    "## Chaining together components with LCEL\n",
    "\n",
    "We can now combine this with the model and the output parser from above using the pipe (`|`) operator:"
   ]
  },
  {
   "cell_type": "code",
   "execution_count": 41,
   "id": "6c6beb4b",
   "metadata": {},
   "outputs": [],
   "source": [
    "chain = None"
   ]
  },
  {
   "cell_type": "code",
   "execution_count": 42,
   "id": "3e45595a",
   "metadata": {},
   "outputs": [
    {
     "ename": "AttributeError",
     "evalue": "'NoneType' object has no attribute 'invoke'",
     "output_type": "error",
     "traceback": [
      "\u001b[1;31m---------------------------------------------------------------------------\u001b[0m",
      "\u001b[1;31mAttributeError\u001b[0m                            Traceback (most recent call last)",
      "Cell \u001b[1;32mIn[42], line 1\u001b[0m\n\u001b[1;32m----> 1\u001b[0m \u001b[43mchain\u001b[49m\u001b[38;5;241;43m.\u001b[39;49m\u001b[43minvoke\u001b[49m({\u001b[38;5;124m\"\u001b[39m\u001b[38;5;124mlanguage\u001b[39m\u001b[38;5;124m\"\u001b[39m: \u001b[38;5;124m\"\u001b[39m\u001b[38;5;124mitalian\u001b[39m\u001b[38;5;124m\"\u001b[39m, \u001b[38;5;124m\"\u001b[39m\u001b[38;5;124mtext\u001b[39m\u001b[38;5;124m\"\u001b[39m: \u001b[38;5;28;01mNone\u001b[39;00m})\n",
      "\u001b[1;31mAttributeError\u001b[0m: 'NoneType' object has no attribute 'invoke'"
     ]
    }
   ],
   "source": [
    "chain.invoke({\"language\": \"italian\", \"text\": None})"
   ]
  },
  {
   "cell_type": "markdown",
   "id": "0b19cecb",
   "metadata": {},
   "source": [
    "This is a simple example of using [LangChain Expression Language (LCEL)](/docs/concepts/#langchain-expression-language-lcel) to chain together LangChain modules. There are several benefits to this approach, including optimized streaming and tracing support.\n",
    "\n",
    "If we take a look at the LangSmith trace, we can see all three components show up in the [LangSmith trace](https://smith.langchain.com/public/bc49bec0-6b13-4726-967f-dbd3448b786d/r)."
   ]
  },
  {
   "cell_type": "markdown",
   "id": "a515ddd0",
   "metadata": {},
   "source": [
    "## Serving with LangServe\n",
    "\n",
    "Now that we've built an application, we need to serve it. That's where LangServe comes in.\n",
    "LangServe helps developers deploy LangChain chains as a REST API. You do not need to use LangServe to use LangChain, but in this guide we'll show how you can deploy your app with LangServe.\n",
    "\n",
    "While the first part of this guide was intended to be run in a Jupyter Notebook or script, we will now move out of that. We will be creating a Python file and then interacting with it from the command line.\n",
    "\n",
    "Install with:\n",
    "```bash\n",
    "pip install \"langserve[all]\"\n",
    "```\n",
    "\n",
    "### Server\n",
    "\n",
    "To create a server for our application we'll make a `serve.py` file. This will contain our logic for serving our application. It consists of three things:\n",
    "1. The definition of our chain that we just built above\n",
    "2. Our FastAPI app\n",
    "3. A definition of a route from which to serve the chain, which is done with `langserve.add_routes`\n",
    "\n",
    "\n",
    "```python\n",
    "#!/usr/bin/env python\n",
    "from typing import List\n",
    "\n",
    "from fastapi import FastAPI\n",
    "from langchain_core.prompts import ChatPromptTemplate\n",
    "from langchain_core.output_parsers import StrOutputParser\n",
    "from langchain_openai import ChatOpenAI\n",
    "from langserve import add_routes\n",
    "\n",
    "# 1. Create prompt template\n",
    "system_template = \"Translate the following into {language}:\"\n",
    "prompt_template = ChatPromptTemplate.from_messages([\n",
    "    ('system', system_template),\n",
    "    ('user', '{text}')\n",
    "])\n",
    "\n",
    "# 2. Create model\n",
    "model = ChatOpenAI()\n",
    "\n",
    "# 3. Create parser\n",
    "parser = StrOutputParser()\n",
    "\n",
    "# 4. Create chain\n",
    "chain = prompt_template | model | parser\n",
    "\n",
    "\n",
    "# 4. App definition\n",
    "app = FastAPI(\n",
    "  title=\"LangChain Server\",\n",
    "  version=\"1.0\",\n",
    "  description=\"A simple API server using LangChain's Runnable interfaces\",\n",
    ")\n",
    "\n",
    "# 5. Adding chain route\n",
    "\n",
    "add_routes(\n",
    "    app,\n",
    "    chain,\n",
    "    path=\"/chain\",\n",
    ")\n",
    "\n",
    "if __name__ == \"__main__\":\n",
    "    import uvicorn\n",
    "\n",
    "    uvicorn.run(app, host=\"localhost\", port=8000)\n",
    "```\n",
    "\n",
    "And that's it! If we execute this file:\n",
    "```bash\n",
    "python serve.py\n",
    "```\n",
    "we should see our chain being served at [http://localhost:8000](http://localhost:8000).\n",
    "\n",
    "### Playground\n",
    "\n",
    "Every LangServe service comes with a simple [built-in UI](https://github.com/langchain-ai/langserve/blob/main/README.md#playground) for configuring and invoking the application with streaming output and visibility into intermediate steps.\n",
    "Head to [http://localhost:8000/chain/playground/](http://localhost:8000/chain/playground/) to try it out! Pass in the same inputs as before - `{\"language\": \"italian\", \"text\": \"hi\"}` - and it should respond same as before.\n",
    "\n",
    "### Client\n",
    "\n",
    "Now let's set up a client for programmatically interacting with our service. We can easily do this with the `[langserve.RemoteRunnable](/docs/langserve/#client)`.\n",
    "Using this, we can interact with the served chain as if it were running client-side."
   ]
  },
  {
   "cell_type": "code",
   "execution_count": 5,
   "id": "85174643",
   "metadata": {},
   "outputs": [
    {
     "data": {
      "text/plain": [
       "'\\nこんにちは、今日はいかがですか？(Konnichiwa, kyou wa ikaga desu ka?)\\n\\nHere\\'s a breakdown of the sentence and how it would be translated in Japanese:\\n\\n* \"Hello\" is こんにちは (konnichiwa) in Japanese.\\n* \"How are you today?\" is 今日はいかがですか (kyou wa ikaga desu ka) in Japanese. The word order is different in Japanese, and the phrase \"how are you\" is not directly translated as a single word, but rather as \"いかがですか\" which can be translated to \"How are you?\" or \"How are things going?\" depending on the context.'"
      ]
     },
     "execution_count": 5,
     "metadata": {},
     "output_type": "execute_result"
    }
   ],
   "source": [
    "from langserve import RemoteRunnable\n",
    "\n",
    "remote_chain = RemoteRunnable(\"http://localhost:8000/chain/\")\n",
    "remote_chain.invoke({\"language\": \"japanese\", \"text\": \"Hello, how are you today?\"})  # Replace None with an actual string"
   ]
  },
  {
   "cell_type": "markdown",
   "id": "480b78a9",
   "metadata": {},
   "source": [
    "To learn more about the many other features of LangServe [head here](/docs/langserve)."
   ]
  },
  {
   "cell_type": "markdown",
   "id": "befdb168",
   "metadata": {},
   "source": [
    "## Conclusion\n",
    "\n",
    "That's it! In this tutorial you've learned how to create your first simple LLM application. You've learned how to work with language models, how to parse their outputs, how to create a prompt template, chaining them with LCEL, how to get great observability into chains you create with LangSmith, and how to deploy them with LangServe.\n",
    "\n",
    "This just scratches the surface of what you will want to learn to become a proficient AI Engineer. Luckily - we've got a lot of other resources!\n",
    "\n",
    "For further reading on the core concepts of LangChain, we've got detailed [Conceptual Guides](/docs/concepts).\n",
    "\n",
    "If you have more specific questions on these concepts, check out the following sections of the how-to guides:\n",
    "\n",
    "- [LangChain Expression Language (LCEL)](/docs/how_to/#langchain-expression-language-lcel)\n",
    "- [Prompt templates](/docs/how_to/#prompt-templates)\n",
    "- [Chat models](/docs/how_to/#chat-models)\n",
    "- [Output parsers](/docs/how_to/#output-parsers)\n",
    "- [LangServe](/docs/langserve/)\n",
    "\n",
    "And the LangSmith docs:\n",
    "\n",
    "- [LangSmith](https://docs.smith.langchain.com)"
   ]
  },
  {
   "cell_type": "code",
   "execution_count": null,
   "id": "a3d3e206",
   "metadata": {},
   "outputs": [],
   "source": []
  }
 ],
 "metadata": {
  "kernelspec": {
   "display_name": "Python 3",
   "language": "python",
   "name": "python3"
  },
  "language_info": {
   "codemirror_mode": {
    "name": "ipython",
    "version": 3
   },
   "file_extension": ".py",
   "mimetype": "text/x-python",
   "name": "python",
   "nbconvert_exporter": "python",
   "pygments_lexer": "ipython3",
   "version": "3.13.2"
  }
 },
 "nbformat": 4,
 "nbformat_minor": 5
}
